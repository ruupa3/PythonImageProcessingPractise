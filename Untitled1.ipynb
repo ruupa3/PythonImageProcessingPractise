{
  "nbformat": 4,
  "nbformat_minor": 0,
  "metadata": {
    "colab": {
      "provenance": []
    },
    "kernelspec": {
      "name": "python3",
      "display_name": "Python 3"
    },
    "language_info": {
      "name": "python"
    }
  },
  "cells": [
    {
      "cell_type": "code",
      "execution_count": null,
      "metadata": {
        "id": "LAH4uK8hmh_T"
      },
      "outputs": [],
      "source": [
        "pip install scikit-image"
      ]
    },
    {
      "cell_type": "code",
      "source": [
        "from skimage.io import imread, imshow"
      ],
      "metadata": {
        "id": "trexY5xWnBhh"
      },
      "execution_count": 2,
      "outputs": []
    },
    {
      "cell_type": "code",
      "source": [
        "from skimage.color import rgb2gray"
      ],
      "metadata": {
        "id": "EUBDbGHYnKis"
      },
      "execution_count": 3,
      "outputs": []
    },
    {
      "cell_type": "code",
      "source": [
        "from skimage.io.collection import Image"
      ],
      "metadata": {
        "id": "ocgBl4B0nTJd"
      },
      "execution_count": 4,
      "outputs": []
    },
    {
      "cell_type": "code",
      "source": [
        "blue1=Image.open(r\"/bin/Puri_Landsat_Jan2023/LC08_L2SP_140046_20230107_20230110_02_T1_SR_B2.TIF\")"
      ],
      "metadata": {
        "id": "xn17Ny7FoxCF"
      },
      "execution_count": 6,
      "outputs": []
    },
    {
      "cell_type": "code",
      "source": [
        "blue2=Image.open(r\"/bin/Puri_Landsat_Jan2023/LC09_L2SP_139046_20230108_20230314_02_T1_SR_B2.TIF\")"
      ],
      "metadata": {
        "id": "vyDBXgjEpOeX"
      },
      "execution_count": 7,
      "outputs": []
    },
    {
      "cell_type": "code",
      "source": [
        "pip install rasterio numpy"
      ],
      "metadata": {
        "id": "o3zatr6argHD"
      },
      "execution_count": null,
      "outputs": []
    },
    {
      "cell_type": "code",
      "source": [
        "import rasterio"
      ],
      "metadata": {
        "id": "KG-F--warnd1"
      },
      "execution_count": 10,
      "outputs": []
    },
    {
      "cell_type": "code",
      "source": [
        "from rasterio.merge import merge"
      ],
      "metadata": {
        "id": "bI54ft2WrvCZ"
      },
      "execution_count": 11,
      "outputs": []
    },
    {
      "cell_type": "code",
      "source": [
        "from rasterio.plot import show"
      ],
      "metadata": {
        "id": "YdASGu4Tr1dk"
      },
      "execution_count": 12,
      "outputs": []
    },
    {
      "cell_type": "code",
      "source": [
        "blue1=rasterio.open(\"/bin/Puri_Landsat_Jan2023/LC08_L2SP_140046_20230107_20230110_02_T1_SR_B2.TIF\")"
      ],
      "metadata": {
        "id": "jqOAXWd9yzcV"
      },
      "execution_count": 18,
      "outputs": []
    },
    {
      "cell_type": "code",
      "source": [
        "blue2=rasterio.open(\"/bin/Puri_Landsat_Jan2023/LC09_L2SP_139046_20230108_20230314_02_T1_SR_B2.TIF\")"
      ],
      "metadata": {
        "id": "FQdoiJCNzBTS"
      },
      "execution_count": 22,
      "outputs": []
    },
    {
      "cell_type": "code",
      "source": [
        "blue_filepaths=[\"/bin/Puri_Landsat_Jan2023/LC08_L2SP_140046_20230107_20230110_02_T1_SR_B2.TIF\",\n",
        "                \"/bin/Puri_Landsat_Jan2023/LC09_L2SP_139046_20230108_20230314_02_T1_SR_B2.TIF\"]"
      ],
      "metadata": {
        "id": "aX0FRhs90pcB"
      },
      "execution_count": 24,
      "outputs": []
    },
    {
      "cell_type": "code",
      "source": [],
      "metadata": {
        "id": "_NYaYWTE-Myn"
      },
      "execution_count": null,
      "outputs": []
    },
    {
      "cell_type": "code",
      "source": [
        "Jan23Blue = mosaic_images(blue_filepaths)"
      ],
      "metadata": {
        "id": "2CJ-cjZfzrta"
      },
      "execution_count": null,
      "outputs": []
    },
    {
      "cell_type": "code",
      "source": [
        "def mosaic_images(filepaths):\n",
        "    src_files_to_mosaic = [rasterio.open(fp) for fp in filepaths]\n",
        "    mosaic, out_trans = merge(src_files_to_mosaic)\n",
        "    return mosaic, out_trans\n",
        "\n",
        "# List of Landsat image file paths\n",
        "image_filepaths = [r'/content/sample_data/Jan23Blue/LC08_L2SP_140046_20230107_20230110_02_T1_SR_B2.TIF',\n",
        "                r'/content/sample_data/Jan23Blue/LC09_L2SP_139046_20230108_20230314_02_T1_SR_B2.TIF']\n",
        "\n",
        "mosaic, out_trans = mosaic_images(image_filepaths)\n"
      ],
      "metadata": {
        "colab": {
          "base_uri": "https://localhost:8080/",
          "height": 685
        },
        "id": "ClsHQN4T2c1J",
        "outputId": "1c2252e9-537f-4b97-d896-74f4dc21e613"
      },
      "execution_count": 36,
      "outputs": [
        {
          "output_type": "error",
          "ename": "RasterioIOError",
          "evalue": "ignored",
          "traceback": [
            "\u001b[0;31m---------------------------------------------------------------------------\u001b[0m",
            "\u001b[0;31mCPLE_AppDefinedError\u001b[0m                      Traceback (most recent call last)",
            "\u001b[0;32mrasterio/_io.pyx\u001b[0m in \u001b[0;36mrasterio._io.DatasetReaderBase._read\u001b[0;34m()\u001b[0m\n",
            "\u001b[0;32mrasterio/_io.pyx\u001b[0m in \u001b[0;36mrasterio._io.io_multi_band\u001b[0;34m()\u001b[0m\n",
            "\u001b[0;32mrasterio/_err.pyx\u001b[0m in \u001b[0;36mrasterio._err.exc_wrap_int\u001b[0;34m()\u001b[0m\n",
            "\u001b[0;31mCPLE_AppDefinedError\u001b[0m: /content/sample_data/Jan23Blue/LC08_L2SP_140046_20230107_20230110_02_T1_SR_B2.TIF, band 1: IReadBlock failed at X offset 0, Y offset 0: TIFFReadEncodedTile() failed.",
            "\nDuring handling of the above exception, another exception occurred:\n",
            "\u001b[0;31mRasterioIOError\u001b[0m                           Traceback (most recent call last)",
            "\u001b[0;32m<ipython-input-36-bd4205198012>\u001b[0m in \u001b[0;36m<cell line: 10>\u001b[0;34m()\u001b[0m\n\u001b[1;32m      8\u001b[0m                 r'/content/sample_data/Jan23Blue/LC09_L2SP_139046_20230108_20230314_02_T1_SR_B2.TIF']\n\u001b[1;32m      9\u001b[0m \u001b[0;34m\u001b[0m\u001b[0m\n\u001b[0;32m---> 10\u001b[0;31m \u001b[0mmosaic\u001b[0m\u001b[0;34m,\u001b[0m \u001b[0mout_trans\u001b[0m \u001b[0;34m=\u001b[0m \u001b[0mmosaic_images\u001b[0m\u001b[0;34m(\u001b[0m\u001b[0mimage_filepaths\u001b[0m\u001b[0;34m)\u001b[0m\u001b[0;34m\u001b[0m\u001b[0;34m\u001b[0m\u001b[0m\n\u001b[0m",
            "\u001b[0;32m<ipython-input-36-bd4205198012>\u001b[0m in \u001b[0;36mmosaic_images\u001b[0;34m(filepaths)\u001b[0m\n\u001b[1;32m      1\u001b[0m \u001b[0;32mdef\u001b[0m \u001b[0mmosaic_images\u001b[0m\u001b[0;34m(\u001b[0m\u001b[0mfilepaths\u001b[0m\u001b[0;34m)\u001b[0m\u001b[0;34m:\u001b[0m\u001b[0;34m\u001b[0m\u001b[0;34m\u001b[0m\u001b[0m\n\u001b[1;32m      2\u001b[0m     \u001b[0msrc_files_to_mosaic\u001b[0m \u001b[0;34m=\u001b[0m \u001b[0;34m[\u001b[0m\u001b[0mrasterio\u001b[0m\u001b[0;34m.\u001b[0m\u001b[0mopen\u001b[0m\u001b[0;34m(\u001b[0m\u001b[0mfp\u001b[0m\u001b[0;34m)\u001b[0m \u001b[0;32mfor\u001b[0m \u001b[0mfp\u001b[0m \u001b[0;32min\u001b[0m \u001b[0mfilepaths\u001b[0m\u001b[0;34m]\u001b[0m\u001b[0;34m\u001b[0m\u001b[0;34m\u001b[0m\u001b[0m\n\u001b[0;32m----> 3\u001b[0;31m     \u001b[0mmosaic\u001b[0m\u001b[0;34m,\u001b[0m \u001b[0mout_trans\u001b[0m \u001b[0;34m=\u001b[0m \u001b[0mmerge\u001b[0m\u001b[0;34m(\u001b[0m\u001b[0msrc_files_to_mosaic\u001b[0m\u001b[0;34m)\u001b[0m\u001b[0;34m\u001b[0m\u001b[0;34m\u001b[0m\u001b[0m\n\u001b[0m\u001b[1;32m      4\u001b[0m     \u001b[0;32mreturn\u001b[0m \u001b[0mmosaic\u001b[0m\u001b[0;34m,\u001b[0m \u001b[0mout_trans\u001b[0m\u001b[0;34m\u001b[0m\u001b[0;34m\u001b[0m\u001b[0m\n\u001b[1;32m      5\u001b[0m \u001b[0;34m\u001b[0m\u001b[0m\n",
            "\u001b[0;32m/usr/local/lib/python3.10/dist-packages/rasterio/merge.py\u001b[0m in \u001b[0;36mmerge\u001b[0;34m(datasets, bounds, res, nodata, dtype, precision, indexes, output_count, resampling, method, target_aligned_pixels, dst_path, dst_kwds)\u001b[0m\n\u001b[1;32m    357\u001b[0m             \u001b[0mtemp_shape\u001b[0m \u001b[0;34m=\u001b[0m \u001b[0;34m(\u001b[0m\u001b[0msrc_count\u001b[0m\u001b[0;34m,\u001b[0m \u001b[0mtemp_height\u001b[0m\u001b[0;34m,\u001b[0m \u001b[0mtemp_width\u001b[0m\u001b[0;34m)\u001b[0m\u001b[0;34m\u001b[0m\u001b[0;34m\u001b[0m\u001b[0m\n\u001b[1;32m    358\u001b[0m \u001b[0;34m\u001b[0m\u001b[0m\n\u001b[0;32m--> 359\u001b[0;31m             temp_src = src.read(\n\u001b[0m\u001b[1;32m    360\u001b[0m                 \u001b[0mout_shape\u001b[0m\u001b[0;34m=\u001b[0m\u001b[0mtemp_shape\u001b[0m\u001b[0;34m,\u001b[0m\u001b[0;34m\u001b[0m\u001b[0;34m\u001b[0m\u001b[0m\n\u001b[1;32m    361\u001b[0m                 \u001b[0mwindow\u001b[0m\u001b[0;34m=\u001b[0m\u001b[0msrc_window_rnd_shp\u001b[0m\u001b[0;34m,\u001b[0m\u001b[0;34m\u001b[0m\u001b[0;34m\u001b[0m\u001b[0m\n",
            "\u001b[0;32mrasterio/_io.pyx\u001b[0m in \u001b[0;36mrasterio._io.DatasetReaderBase.read\u001b[0;34m()\u001b[0m\n",
            "\u001b[0;32mrasterio/_io.pyx\u001b[0m in \u001b[0;36mrasterio._io.DatasetReaderBase._read\u001b[0;34m()\u001b[0m\n",
            "\u001b[0;31mRasterioIOError\u001b[0m: Read or write failed. /content/sample_data/Jan23Blue/LC08_L2SP_140046_20230107_20230110_02_T1_SR_B2.TIF, band 1: IReadBlock failed at X offset 0, Y offset 0: TIFFReadEncodedTile() failed."
          ]
        }
      ]
    },
    {
      "cell_type": "code",
      "source": [
        "pip install gdal"
      ],
      "metadata": {
        "id": "QlbULokV40Yq"
      },
      "execution_count": null,
      "outputs": []
    },
    {
      "cell_type": "code",
      "source": [
        "from matplotlib import pyplot"
      ],
      "metadata": {
        "id": "I7bRxMwz9Ka5"
      },
      "execution_count": 32,
      "outputs": []
    },
    {
      "cell_type": "code",
      "source": [
        "src1=rasterio.open(r\"/content/sample_data/Jan23Blue/LC08_L2SP_140046_20230107_20230110_02_T1_SR_B2.TIF\")"
      ],
      "metadata": {
        "id": "EihlQRiB-HoR"
      },
      "execution_count": 38,
      "outputs": []
    },
    {
      "cell_type": "code",
      "source": [
        "pyplot.imshow(blue1.read(src1), cmap='pink')"
      ],
      "metadata": {
        "colab": {
          "base_uri": "https://localhost:8080/",
          "height": 210
        },
        "id": "4ilwHyu39Sz7",
        "outputId": "3fc5f813-c563-430e-cbdf-39ccea03c4d2"
      },
      "execution_count": 39,
      "outputs": [
        {
          "output_type": "error",
          "ename": "TypeError",
          "evalue": "ignored",
          "traceback": [
            "\u001b[0;31m---------------------------------------------------------------------------\u001b[0m",
            "\u001b[0;31mTypeError\u001b[0m                                 Traceback (most recent call last)",
            "\u001b[0;32m<ipython-input-39-aa055d74e2a1>\u001b[0m in \u001b[0;36m<cell line: 1>\u001b[0;34m()\u001b[0m\n\u001b[0;32m----> 1\u001b[0;31m \u001b[0mpyplot\u001b[0m\u001b[0;34m.\u001b[0m\u001b[0mimshow\u001b[0m\u001b[0;34m(\u001b[0m\u001b[0mblue1\u001b[0m\u001b[0;34m.\u001b[0m\u001b[0mread\u001b[0m\u001b[0;34m(\u001b[0m\u001b[0msrc1\u001b[0m\u001b[0;34m)\u001b[0m\u001b[0;34m,\u001b[0m \u001b[0mcmap\u001b[0m\u001b[0;34m=\u001b[0m\u001b[0;34m'pink'\u001b[0m\u001b[0;34m)\u001b[0m\u001b[0;34m\u001b[0m\u001b[0;34m\u001b[0m\u001b[0m\n\u001b[0m",
            "\u001b[0;32mrasterio/_io.pyx\u001b[0m in \u001b[0;36mrasterio._io.DatasetReaderBase.read\u001b[0;34m()\u001b[0m\n",
            "\u001b[0;31mTypeError\u001b[0m: 'DatasetReader' object is not iterable"
          ]
        }
      ]
    },
    {
      "cell_type": "code",
      "source": [
        "with rasterio.open('/content/sample_data/Jan23Blue/LC08_L2SP_140046_20230107_20230110_02_T1_SR_B2.TIF', 'r') as one:\n",
        "...   print(one)\n",
        "with rasterio.open('/content/sample_data/Jan23Blue/LC09_L2SP_139046_20230108_20230314_02_T1_SR_B2.TIF', 'r') as two:\n",
        "...   print(two)"
      ],
      "metadata": {
        "colab": {
          "base_uri": "https://localhost:8080/"
        },
        "id": "7lZBR2-yBRjg",
        "outputId": "58498c1a-abea-4d7b-a732-1f2b4c70e0a9"
      },
      "execution_count": 45,
      "outputs": [
        {
          "output_type": "stream",
          "name": "stdout",
          "text": [
            "<open DatasetReader name='/content/sample_data/Jan23Blue/LC08_L2SP_140046_20230107_20230110_02_T1_SR_B2.TIF' mode='r'>\n",
            "<open DatasetReader name='/content/sample_data/Jan23Blue/LC09_L2SP_139046_20230108_20230314_02_T1_SR_B2.TIF' mode='r'>\n"
          ]
        }
      ]
    },
    {
      "cell_type": "code",
      "source": [
        "rasterio.merge(blue_filepaths)"
      ],
      "metadata": {
        "colab": {
          "base_uri": "https://localhost:8080/",
          "height": 175
        },
        "id": "z35_r0xyD-Nk",
        "outputId": "d3dcd205-27e0-4d49-98b9-f94078f4d2fd"
      },
      "execution_count": 48,
      "outputs": [
        {
          "output_type": "error",
          "ename": "TypeError",
          "evalue": "ignored",
          "traceback": [
            "\u001b[0;31m---------------------------------------------------------------------------\u001b[0m",
            "\u001b[0;31mTypeError\u001b[0m                                 Traceback (most recent call last)",
            "\u001b[0;32m<ipython-input-48-bcf9fa5faa4c>\u001b[0m in \u001b[0;36m<cell line: 1>\u001b[0;34m()\u001b[0m\n\u001b[0;32m----> 1\u001b[0;31m \u001b[0mrasterio\u001b[0m\u001b[0;34m.\u001b[0m\u001b[0mmerge\u001b[0m\u001b[0;34m(\u001b[0m\u001b[0mblue_filepaths\u001b[0m\u001b[0;34m)\u001b[0m\u001b[0;34m\u001b[0m\u001b[0;34m\u001b[0m\u001b[0m\n\u001b[0m",
            "\u001b[0;31mTypeError\u001b[0m: 'module' object is not callable"
          ]
        }
      ]
    }
  ]
}